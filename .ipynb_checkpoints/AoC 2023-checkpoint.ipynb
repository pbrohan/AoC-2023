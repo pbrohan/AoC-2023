{
 "cells": [
  {
   "cell_type": "markdown",
   "id": "d9f0edf1",
   "metadata": {},
   "source": [
    "# Day 1"
   ]
  },
  {
   "cell_type": "code",
   "execution_count": 1,
   "id": "3ebd72af",
   "metadata": {},
   "outputs": [],
   "source": [
    "with open(\"day_1.txt\") as file:\n",
    "    lines = [line.rstrip() for line in file]"
   ]
  },
  {
   "cell_type": "code",
   "execution_count": 2,
   "id": "aed4c95c",
   "metadata": {},
   "outputs": [
    {
     "data": {
      "text/plain": [
       "55130"
      ]
     },
     "execution_count": 2,
     "metadata": {},
     "output_type": "execute_result"
    }
   ],
   "source": [
    "import re\n",
    "# I am not sorry\n",
    "sum([int(y[0]) * 10 + int(y[-1]) for y in [re.findall(\"\\d\", x) for x in lines]])"
   ]
  },
  {
   "cell_type": "code",
   "execution_count": 3,
   "id": "6687d610",
   "metadata": {},
   "outputs": [
    {
     "data": {
      "text/plain": [
       "54985"
      ]
     },
     "execution_count": 3,
     "metadata": {},
     "output_type": "execute_result"
    }
   ],
   "source": [
    "from functools import reduce\n",
    "replacements = {\n",
    "    \"one\" : \"o1e\",\n",
    "    \"two\" : \"t2o\",\n",
    "    \"three\" : \"t3e\",\n",
    "    \"four\" : \"f4r\",\n",
    "    \"five\" : \"f5e\",\n",
    "    \"six\" : \"s6x\",\n",
    "    \"seven\" : \"s7n\",\n",
    "    \"eight\" : \"e8t\",\n",
    "    \"nine\" : \"n9e\"\n",
    "}\n",
    "# Still not sorry\n",
    "sum([int(y[0]) * 10 + int(y[-1]) for y in [re.findall(\"\\d\", x) for x in [reduce(lambda a, kv: a.replace(*kv), replacements.items(), z) for z in lines]]])"
   ]
  }
 ],
 "metadata": {
  "kernelspec": {
   "display_name": "Python 3 (ipykernel)",
   "language": "python",
   "name": "python3"
  },
  "language_info": {
   "codemirror_mode": {
    "name": "ipython",
    "version": 3
   },
   "file_extension": ".py",
   "mimetype": "text/x-python",
   "name": "python",
   "nbconvert_exporter": "python",
   "pygments_lexer": "ipython3",
   "version": "3.9.7"
  }
 },
 "nbformat": 4,
 "nbformat_minor": 5
}
